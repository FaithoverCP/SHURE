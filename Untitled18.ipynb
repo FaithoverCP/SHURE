{
  "nbformat": 4,
  "nbformat_minor": 0,
  "metadata": {
    "colab": {
      "private_outputs": true,
      "provenance": [],
      "authorship_tag": "ABX9TyP3jFaPRB2dFA3GX4U4HWlw",
      "include_colab_link": true
    },
    "kernelspec": {
      "name": "python3",
      "display_name": "Python 3"
    },
    "language_info": {
      "name": "python"
    }
  },
  "cells": [
    {
      "cell_type": "markdown",
      "metadata": {
        "id": "view-in-github",
        "colab_type": "text"
      },
      "source": [
        "<a href=\"https://colab.research.google.com/github/FaithoverCP/SHURE/blob/main/Untitled18.ipynb\" target=\"_parent\"><img src=\"https://colab.research.google.com/assets/colab-badge.svg\" alt=\"Open In Colab\"/></a>"
      ]
    },
    {
      "cell_type": "code",
      "execution_count": null,
      "metadata": {
        "id": "UiDVah8z46mI"
      },
      "outputs": [],
      "source": [
        "{\n",
        "  \"username\": \"directionalai\",\n",
        "  \"key\": \"3a9cda46f0e032951dd42f13edf787b3\"\n",
        "}\n"
      ]
    },
    {
      "cell_type": "code",
      "source": [
        "# prompt: ~/.kaggle/kaggle.json\n",
        "\n",
        "import json\n",
        "\n",
        "# Assuming the content of your ~/.kaggle/kaggle.json is stored in a variable called kaggle_json_content\n",
        "kaggle_json_content = \"\"\"{\n",
        "  \"username\": \"directionalai\",\n",
        "  \"key\": \"3a9cda46f0e032951dd42f13edf787b3\"\n",
        "}\"\"\"\n",
        "\n",
        "# Parse the JSON content\n",
        "kaggle_credentials = json.loads(kaggle_json_content)\n",
        "\n",
        "# Now you can access the username and key\n",
        "username = kaggle_credentials['username']\n",
        "key = kaggle_credentials['key']\n",
        "\n",
        "# You can use these credentials for interacting with the Kaggle API\n",
        "# For example, to download a dataset:\n",
        "# !kaggle datasets download -d <dataset_name>\n",
        "\n",
        "\n"
      ],
      "metadata": {
        "id": "Uv060zr955hm"
      },
      "execution_count": null,
      "outputs": []
    },
    {
      "cell_type": "code",
      "source": [
        "!mkdir -p ~/.kaggle\n",
        "!mv kaggle.json ~/.kaggle/\n",
        "!mkdir -p ~/.kaggle\n",
        "!mv kaggle.json ~/.kaggle/\n",
        "!chmod 600 ~/.kaggle/kaggle.json\n",
        "\n",
        "!mv kaggle.json ~/.kaggle/\n",
        "\n",
        "# Set correct permissions\n",
        "!mkdir -p ~/.kaggle\n",
        "!mv kaggle.json ~/.kaggle/\n",
        "!chmod 600 ~/.kaggle/kaggle.json\n",
        "\n",
        "# Set correct permissions\n",
        "!chmod 600 ~/.kaggle/kaggle.json"
      ],
      "metadata": {
        "id": "Y2Wp2C8V6RtI"
      },
      "execution_count": null,
      "outputs": []
    },
    {
      "cell_type": "code",
      "source": [
        "!kaggle competitions list"
      ],
      "metadata": {
        "id": "j3OdeOQ-7IXM"
      },
      "execution_count": null,
      "outputs": []
    },
    {
      "cell_type": "code",
      "source": [
        "!find / -name \"kaggle.json\" 2>/dev/null\n"
      ],
      "metadata": {
        "id": "ecSK4ELM7Wb8"
      },
      "execution_count": null,
      "outputs": []
    },
    {
      "cell_type": "code",
      "source": [
        "mkdir -p ~/.kaggle\n"
      ],
      "metadata": {
        "id": "nh-C2Pp47h2Z"
      },
      "execution_count": null,
      "outputs": []
    },
    {
      "cell_type": "code",
      "source": [
        "mv /path/to/kaggle.json ~/.kaggle/kaggle.json\n"
      ],
      "metadata": {
        "id": "BEWpqctT7lAN"
      },
      "execution_count": null,
      "outputs": []
    },
    {
      "cell_type": "code",
      "source": [
        "mv \"/mnt/data/kaggle (1).json\" ~/.kaggle/kaggle.json\n"
      ],
      "metadata": {
        "id": "OCXFWo2S7vE7"
      },
      "execution_count": null,
      "outputs": []
    },
    {
      "cell_type": "code",
      "source": [
        "!chmod 600 ~/.kaggle/kaggle.json"
      ],
      "metadata": {
        "id": "MkxV8N3E7zBH"
      },
      "execution_count": null,
      "outputs": []
    },
    {
      "cell_type": "code",
      "source": [
        "!kaggle competitions list"
      ],
      "metadata": {
        "id": "YbGBXsP673TU"
      },
      "execution_count": null,
      "outputs": []
    },
    {
      "cell_type": "code",
      "source": [
        "import os\n",
        "import json\n",
        "\n",
        "# Create .kaggle directory if it doesn't exist\n",
        "os.makedirs(os.path.expanduser(\"~/.kaggle\"), exist_ok=True)\n",
        "\n",
        "# Your Kaggle credentials\n",
        "credentials = {\n",
        "    \"username\": \"directionalai\",\n",
        "    \"key\": \"3a9cda46f0e032951dd42f13edf787b3\"\n",
        "}\n",
        "\n",
        "# Write credentials to the kaggle.json file\n",
        "with open(os.path.expanduser(\"~/.kaggle/kaggle.json\"), \"w\") as f:\n",
        "    json.dump(credentials, f)\n",
        "\n",
        "# Set the file permission\n",
        "os.chmod(os.path.expanduser(\"~/.kaggle/kaggle.json\"), 0o600)\n",
        "\n",
        "print(\"Kaggle credentials configured successfully.\")\n"
      ],
      "metadata": {
        "id": "pc_AXH7n8Dzn"
      },
      "execution_count": null,
      "outputs": []
    },
    {
      "cell_type": "code",
      "source": [
        "!kaggle competitions list\n"
      ],
      "metadata": {
        "id": "7dxij4UQ8Ght"
      },
      "execution_count": null,
      "outputs": []
    },
    {
      "cell_type": "code",
      "source": [],
      "metadata": {
        "id": "5hybWWPv_Rwv"
      },
      "execution_count": null,
      "outputs": []
    },
    {
      "cell_type": "code",
      "source": [],
      "metadata": {
        "id": "UvP83Ae3df_Y"
      },
      "execution_count": null,
      "outputs": []
    },
    {
      "cell_type": "code",
      "source": [
        "!kaggle competitions download ai-mathematical-olympiad-progress-prize-2\n",
        "!unzip ai-mathematical-olympiad-progress-prize-2.zip -d competition_data"
      ],
      "metadata": {
        "id": "isW9BoEg8XkV"
      },
      "execution_count": null,
      "outputs": []
    },
    {
      "cell_type": "code",
      "source": [
        "!kaggle competitions download ai-mathematical-olympiad-progress-prize-2\n"
      ],
      "metadata": {
        "id": "rBXY-gxj8eAl"
      },
      "execution_count": null,
      "outputs": []
    },
    {
      "cell_type": "code",
      "source": [
        "!unzip ai-mathematical-olympiad-progress-prize-2.zip -d competition_data\n"
      ],
      "metadata": {
        "id": "KZIrm7kA8qC8"
      },
      "execution_count": null,
      "outputs": []
    },
    {
      "cell_type": "code",
      "source": [
        "!ls competition_data\n"
      ],
      "metadata": {
        "id": "j5Hb64SC83BP"
      },
      "execution_count": null,
      "outputs": []
    },
    {
      "cell_type": "code",
      "source": [
        "import pandas as pd\n",
        "\n",
        "test_df = pd.read_csv(\"competition_data/test.csv\")\n",
        "print(test_df.head())\n"
      ],
      "metadata": {
        "id": "cDnsvX_i9DeS"
      },
      "execution_count": null,
      "outputs": []
    },
    {
      "cell_type": "code",
      "source": [
        "from transformers import AutoModelForSeq2SeqLM, AutoTokenizer\n",
        "import torch\n",
        "from tqdm.auto import tqdm\n",
        "import pandas as pd\n",
        "\n",
        "test_df = pd.read_csv(\"competition_data/test.csv\")\n",
        "\n",
        "# Load powerful reasoning model (Flan-T5 Large as example)\n",
        "model_name = \"google/flan-t5-large\"\n",
        "tokenizer = AutoTokenizer.from_pretrained(model_name)\n",
        "model = AutoModelForSeq2SeqLM.from_pretrained(model_name, device_map='auto')\n",
        "\n",
        "def solve_math(problem):\n",
        "    prompt = f\"Solve the mathematical problem: {problem}\"\n",
        "    inputs = tokenizer(prompt, return_tensors=\"pt\").to(model.device)\n",
        "    outputs = model.generate(**inputs, max_length=256)\n",
        "    solution = tokenizer.decode(outputs[0], skip_special_tokens=True)\n",
        "    return solution\n",
        "\n",
        "# Solve problems in test set\n",
        "solutions = []\n",
        "for prob in tqdm(test_df['problem']):\n",
        "    solutions.append(solve_math(prob))\n",
        "\n",
        "# Create submission file\n",
        "submission = pd.DataFrame({\n",
        "    'id': test_df['id'],\n",
        "    'solution': solutions\n",
        "})\n",
        "\n",
        "submission.to_csv('submission.csv', index=False)\n"
      ],
      "metadata": {
        "id": "hBTTmbpw9HxF"
      },
      "execution_count": null,
      "outputs": []
    },
    {
      "cell_type": "code",
      "source": [
        "!ls submission.csv\n"
      ],
      "metadata": {
        "id": "N2rvU6ym-MXo"
      },
      "execution_count": null,
      "outputs": []
    },
    {
      "cell_type": "code",
      "source": [
        "!kaggle competitions submit ai-mathematical-olympiad-progress-prize-2 -f submission.csv -m \"Directional AI Zero-shot Submission\"\n"
      ],
      "metadata": {
        "id": "V9ZQYIHd-QIk"
      },
      "execution_count": null,
      "outputs": []
    },
    {
      "cell_type": "code",
      "source": [
        "import pandas as pd\n",
        "\n",
        "submission_df = pd.read_csv('submission.csv')\n",
        "print(submission_df.head())\n"
      ],
      "metadata": {
        "id": "tMKurxJY-eir"
      },
      "execution_count": null,
      "outputs": []
    },
    {
      "cell_type": "code",
      "source": [
        "sample_submission = pd.read_csv('competition_data/sample_submission.csv')\n",
        "print(sample_submission.head())\n"
      ],
      "metadata": {
        "id": "fVW1NbvQ-hi_"
      },
      "execution_count": null,
      "outputs": []
    },
    {
      "cell_type": "code",
      "source": [
        "# Fixing column alignment example\n",
        "submission_df.columns = sample_submission.columns\n",
        "submission_df.to_csv('submission.csv', index=False)\n"
      ],
      "metadata": {
        "id": "t0_AgTej-kfu"
      },
      "execution_count": null,
      "outputs": []
    },
    {
      "cell_type": "code",
      "source": [
        "!kaggle competitions submit ai-mathematical-olympiad-progress-prize-2 -f submission.csv -m \"Directional AI Zero-shot Submission\"\n"
      ],
      "metadata": {
        "id": "engOtt8T-oJo"
      },
      "execution_count": null,
      "outputs": []
    },
    {
      "cell_type": "code",
      "source": [
        "!kaggle competitions submissions ai-mathematical-olympiad-progress-prize-2\n"
      ],
      "metadata": {
        "id": "7MJ5OecF-sF_"
      },
      "execution_count": null,
      "outputs": []
    },
    {
      "cell_type": "code",
      "source": [
        "import pandas as pd\n",
        "\n",
        "# Load original submission and Kaggle sample\n",
        "submission_df = pd.read_csv('submission.csv')\n",
        "sample_submission = pd.read_csv('competition_data/sample_submission.csv')\n",
        "\n",
        "# Ensure the columns match exactly\n",
        "submission_df.columns = sample_submission.columns\n",
        "\n",
        "# Cast 'answer' to numeric (int or float), correcting potential datatype issues\n",
        "submission_df['answer'] = pd.to_numeric(submission_df['answer'], errors='coerce').fillna(0).astype(int)\n",
        "\n",
        "# Save again clearly ensuring compatibility\n",
        "submission_df.to_csv('submission.csv', index=False)\n",
        "\n",
        "print(submission_df.head())\n"
      ],
      "metadata": {
        "id": "pNpZ3WDJ-3O7"
      },
      "execution_count": null,
      "outputs": []
    },
    {
      "cell_type": "code",
      "source": [
        "# prompt: !kaggle competitions submit ai-mathematical-olympiad-progress-prize-2 -f submission.csv -m \"Directional AI Corrected Submission\"\n",
        "\n",
        "!kaggle competitions submit ai-mathematical-olympiad-progress-prize-2 -f submission.csv -m \"Directional AI Corrected Submission\"\n"
      ],
      "metadata": {
        "id": "v8IQSoUN-6ce"
      },
      "execution_count": null,
      "outputs": []
    },
    {
      "cell_type": "code",
      "source": [
        "import pandas as pd\n",
        "\n",
        "submission_df = pd.read_csv('submission.csv')\n",
        "\n",
        "# Rename columns explicitly\n",
        "submission_df.columns = ['id', 'answer']\n",
        "\n",
        "# Convert clearly to integer, making sure to handle negatives as Kaggle may not accept negative values\n",
        "submission_df['answer'] = pd.to_numeric(submission_df['answer'], errors='coerce').fillna(0).astype(int)\n",
        "\n",
        "# Replace negative numbers with zero (if negative solutions aren't allowed)\n",
        "submission_df['answer'] = submission_df['answer'].clip(lower=0)\n",
        "\n",
        "# Check final submission clearly\n",
        "print(submission_df.head())\n",
        "\n",
        "# Save clearly\n",
        "submission_df.to_csv('submission.csv', index=False)\n"
      ],
      "metadata": {
        "id": "nbiYk3zV_3Nf"
      },
      "execution_count": null,
      "outputs": []
    },
    {
      "cell_type": "code",
      "source": [
        "!kaggle competitions submit ai-mathematical-olympiad-progress-prize-2 -f submission.csv -m \"Directional AI Final Corrected Submission\"\n",
        "\n"
      ],
      "metadata": {
        "id": "xKRUJ-zoAH8R"
      },
      "execution_count": null,
      "outputs": []
    },
    {
      "cell_type": "code",
      "source": [
        "from google.colab import files\n",
        "files.download('submission.csv')\n"
      ],
      "metadata": {
        "id": "IX2fiw3GASeS"
      },
      "execution_count": null,
      "outputs": []
    }
  ]
}